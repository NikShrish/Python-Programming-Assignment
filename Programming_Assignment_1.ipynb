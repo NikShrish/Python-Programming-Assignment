{
  "nbformat": 4,
  "nbformat_minor": 0,
  "metadata": {
    "colab": {
      "name": "Programming Assignment_1.ipynb",
      "provenance": []
    },
    "kernelspec": {
      "name": "python3",
      "display_name": "Python 3"
    },
    "language_info": {
      "name": "python"
    }
  },
  "cells": [
    {
      "cell_type": "markdown",
      "metadata": {
        "id": "JqlCr59VlnCG"
      },
      "source": [
        "#Nikita Nagraj"
      ]
    },
    {
      "cell_type": "markdown",
      "metadata": {
        "id": "Jlz96UiOlp0r"
      },
      "source": [
        "## 1. Write a Python program to print &quot;Hello Python&quot;?"
      ]
    },
    {
      "cell_type": "code",
      "metadata": {
        "colab": {
          "base_uri": "https://localhost:8080/"
        },
        "id": "M69QITfRleVh",
        "outputId": "435ce144-1584-4607-ac1e-1d7e2020ba53"
      },
      "source": [
        "print(\"Hello\")"
      ],
      "execution_count": 1,
      "outputs": [
        {
          "output_type": "stream",
          "text": [
            "Hello\n"
          ],
          "name": "stdout"
        }
      ]
    },
    {
      "cell_type": "markdown",
      "metadata": {
        "id": "oQIZsUBRl68u"
      },
      "source": [
        "##2. Write a Python program to do arithmetical operations addition and division.?"
      ]
    },
    {
      "cell_type": "code",
      "metadata": {
        "colab": {
          "base_uri": "https://localhost:8080/"
        },
        "id": "wrqrd61Nltjy",
        "outputId": "0a3b3c0e-721f-456e-dd8c-049646dc23ed"
      },
      "source": [
        "a=int(input(\"Enter 1st Number\"))\n",
        "b=int(input(\"Enter 2nd Number \"))\n",
        "c=a+b\n",
        "print(c)\n",
        "d=a/b\n",
        "print(d)"
      ],
      "execution_count": 4,
      "outputs": [
        {
          "output_type": "stream",
          "text": [
            "Enter 1st Number20\n",
            "Enter 2nd Number 5\n",
            "25\n",
            "4.0\n"
          ],
          "name": "stdout"
        }
      ]
    },
    {
      "cell_type": "markdown",
      "metadata": {
        "id": "bVfhAzdhmkgx"
      },
      "source": [
        "##3. Write a Python program to find the area of a triangle?"
      ]
    },
    {
      "cell_type": "code",
      "metadata": {
        "colab": {
          "base_uri": "https://localhost:8080/"
        },
        "id": "sxuFklIqmJh9",
        "outputId": "67e91246-6030-4d02-d467-8584e54d8ac0"
      },
      "source": [
        "side1=int(input(\"Enter value\"))\n",
        "side2=int(input(\"Enter value\"))\n",
        "side3=int(input(\"Enter value\"))\n",
        "\n",
        "#semi perimeter\n",
        "peri=(side1+side2+side3)/3\n",
        "print(peri)\n",
        "\n",
        "#calculate area\n",
        "area=(peri*(peri-side1)*(peri-side2)*(peri-side3))** 0.5\n",
        "print(area)"
      ],
      "execution_count": 17,
      "outputs": [
        {
          "output_type": "stream",
          "text": [
            "Enter value12\n",
            "Enter value13\n",
            "Enter value16\n",
            "13.666666666666666\n",
            "(3.644846935870485e-16+5.9524867715461625j)\n"
          ],
          "name": "stdout"
        }
      ]
    },
    {
      "cell_type": "markdown",
      "metadata": {
        "id": "_tXMAQNopUDo"
      },
      "source": [
        "##4. Write a Python program to swap two variables?\n"
      ]
    },
    {
      "cell_type": "code",
      "metadata": {
        "colab": {
          "base_uri": "https://localhost:8080/"
        },
        "id": "MAmwBcFCnL7S",
        "outputId": "4f53fc25-db67-4ba0-faa3-723d2028526d"
      },
      "source": [
        "a=int(input(\"value of a is:\"))\n",
        "b=int(input(\"value of b is:\"))\n",
        "c=a\n",
        "a=b\n",
        "b=c\n",
        "#swapped values of variables\n",
        "print(\"a is\",a)\n",
        "print(\"b is\",b)"
      ],
      "execution_count": 20,
      "outputs": [
        {
          "output_type": "stream",
          "text": [
            "value of a is:6\n",
            "value of b is:5\n",
            "a is 5\n",
            "b is 6\n"
          ],
          "name": "stdout"
        }
      ]
    },
    {
      "cell_type": "markdown",
      "metadata": {
        "id": "XvFIwCqOpXz4"
      },
      "source": [
        "##5. Write a Python program to generate a random number?"
      ]
    },
    {
      "cell_type": "code",
      "metadata": {
        "colab": {
          "base_uri": "https://localhost:8080/"
        },
        "id": "SKp3SBeypBhd",
        "outputId": "df971bc6-36b2-48df-fdd5-4e05507a512d"
      },
      "source": [
        "import random\n",
        "a=random.randint(100,200)   #generate random number between 100 and 200\n",
        "print(a)"
      ],
      "execution_count": 22,
      "outputs": [
        {
          "output_type": "stream",
          "text": [
            "118\n"
          ],
          "name": "stdout"
        }
      ]
    }
  ]
}
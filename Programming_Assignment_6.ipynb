{
  "nbformat": 4,
  "nbformat_minor": 0,
  "metadata": {
    "colab": {
      "name": "Programming_Assignment_6.ipynb",
      "provenance": []
    },
    "kernelspec": {
      "name": "python3",
      "display_name": "Python 3"
    },
    "language_info": {
      "name": "python"
    }
  },
  "cells": [
    {
      "cell_type": "markdown",
      "metadata": {
        "id": "gJqOOzVIkKoz"
      },
      "source": [
        "1. Write a Python Program to Display Fibonacci Sequence Using Recursion?\n",
        "2. Write a Python Program to Find Factorial of Number Using Recursion?\n",
        "3. Write a Python Program to calculate your Body Mass Index?\n",
        "4. Write a Python Program to calculate the natural logarithm of any number?\n",
        "5. Write a Python Program for cube sum of first n natural numbers?"
      ]
    },
    {
      "cell_type": "markdown",
      "metadata": {
        "id": "eGKdOzVXkWWz"
      },
      "source": [
        "##1.Write a Python Program to Display Fibonacci Sequence Using Recursion?"
      ]
    },
    {
      "cell_type": "code",
      "metadata": {
        "colab": {
          "base_uri": "https://localhost:8080/"
        },
        "id": "uCsLP_ZKkAJ1",
        "outputId": "2b5f7928-136c-43f1-fdf0-aae5145d70b2"
      },
      "source": [
        "def rec(num):\n",
        "  if num<=1:\n",
        "    return num\n",
        "  else:\n",
        "    return (rec(num-1)+rec(num-2))\n",
        "\n",
        "nterms=15\n",
        "for i in range(nterms):\n",
        "  print(\"fibonacci series is:\", rec(i)) \n",
        "\n",
        " \n"
      ],
      "execution_count": null,
      "outputs": [
        {
          "output_type": "stream",
          "text": [
            "fibonacci series is: 0\n",
            "fibonacci series is: 1\n",
            "fibonacci series is: 1\n",
            "fibonacci series is: 2\n",
            "fibonacci series is: 3\n",
            "fibonacci series is: 5\n",
            "fibonacci series is: 8\n",
            "fibonacci series is: 13\n",
            "fibonacci series is: 21\n",
            "fibonacci series is: 34\n",
            "fibonacci series is: 55\n",
            "fibonacci series is: 89\n",
            "fibonacci series is: 144\n",
            "fibonacci series is: 233\n",
            "fibonacci series is: 377\n"
          ],
          "name": "stdout"
        }
      ]
    },
    {
      "cell_type": "markdown",
      "metadata": {
        "id": "KDYjk0FCvp19"
      },
      "source": [
        "##2.Write a Python Program to Find Factorial of Number Using Recursion?"
      ]
    },
    {
      "cell_type": "code",
      "metadata": {
        "colab": {
          "base_uri": "https://localhost:8080/"
        },
        "id": "ujGxlVORsHLW",
        "outputId": "93ff97a6-8268-4a38-c1ef-777758596328"
      },
      "source": [
        "def fact(num):\n",
        "  if num==1:\n",
        "    return num\n",
        "  \n",
        "  else:\n",
        "    return (num*fact(num-1))\n",
        "\n",
        "print(\"factorial of number is:\",fact(5))"
      ],
      "execution_count": null,
      "outputs": [
        {
          "output_type": "stream",
          "text": [
            "factorial of number is: 120\n"
          ],
          "name": "stdout"
        }
      ]
    },
    {
      "cell_type": "markdown",
      "metadata": {
        "id": "LOWUmele_Iwh"
      },
      "source": [
        "##3.Write a Python Program to calculate your Body Mass Index?"
      ]
    },
    {
      "cell_type": "code",
      "metadata": {
        "id": "4O5FPra716Jf",
        "colab": {
          "base_uri": "https://localhost:8080/"
        },
        "outputId": "61275075-1052-41e0-a98c-e716c12de306"
      },
      "source": [
        "height=int(input())\n",
        "weight=int(input())\n",
        "print(\"BMI=\", round(weight/(height*height)))"
      ],
      "execution_count": 14,
      "outputs": [
        {
          "output_type": "stream",
          "text": [
            "6\n",
            "53\n",
            "BMI= 1\n"
          ],
          "name": "stdout"
        }
      ]
    },
    {
      "cell_type": "markdown",
      "metadata": {
        "id": "NFiiuLBoM5At"
      },
      "source": [
        "##4.Write a Python Program to calculate the natural logarithm of any number?"
      ]
    },
    {
      "cell_type": "code",
      "metadata": {
        "colab": {
          "base_uri": "https://localhost:8080/"
        },
        "id": "PydOWNcUMJgS",
        "outputId": "eca2006b-d5f6-4b4c-bc12-c7382ae3df6a"
      },
      "source": [
        "import math\n",
        "num=int(input(\"Enter Number\"))\n",
        "math.log(num)"
      ],
      "execution_count": 15,
      "outputs": [
        {
          "output_type": "stream",
          "text": [
            "Enter Number5\n"
          ],
          "name": "stdout"
        },
        {
          "output_type": "execute_result",
          "data": {
            "text/plain": [
              "1.6094379124341003"
            ]
          },
          "metadata": {
            "tags": []
          },
          "execution_count": 15
        }
      ]
    },
    {
      "cell_type": "markdown",
      "metadata": {
        "id": "5k6RziHLN2dg"
      },
      "source": [
        "##5. Write a Python Program for cube sum of first n natural numbers?"
      ]
    },
    {
      "cell_type": "code",
      "metadata": {
        "colab": {
          "base_uri": "https://localhost:8080/"
        },
        "id": "bVn29nHFNVfB",
        "outputId": "6521631f-5e02-403f-b1b0-83141f62c892"
      },
      "source": [
        "sum=0\n",
        "num=int(input())\n",
        "for i in range(1,num+1):\n",
        "  sum=sum+(i*i*i)\n",
        "print(sum)\n"
      ],
      "execution_count": 19,
      "outputs": [
        {
          "output_type": "stream",
          "text": [
            "10\n",
            "3025\n"
          ],
          "name": "stdout"
        }
      ]
    },
    {
      "cell_type": "code",
      "metadata": {
        "id": "4-6TPSwlOV-5"
      },
      "source": [
        ""
      ],
      "execution_count": null,
      "outputs": []
    }
  ]
}
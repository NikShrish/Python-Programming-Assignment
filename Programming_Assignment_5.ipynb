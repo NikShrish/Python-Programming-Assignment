{
  "nbformat": 4,
  "nbformat_minor": 0,
  "metadata": {
    "colab": {
      "name": "Programming_Assignment_5.ipynb",
      "provenance": []
    },
    "kernelspec": {
      "name": "python3",
      "display_name": "Python 3"
    },
    "language_info": {
      "name": "python"
    }
  },
  "cells": [
    {
      "cell_type": "markdown",
      "metadata": {
        "id": "Zrhe-1o_dXPD"
      },
      "source": [
        "##1.Write a Python Program to Find LCM?"
      ]
    },
    {
      "cell_type": "code",
      "metadata": {
        "id": "Ynx_0trvdY1c",
        "colab": {
          "base_uri": "https://localhost:8080/"
        },
        "outputId": "d1b2c463-1904-4836-b43f-f8c5eade669f"
      },
      "source": [
        "\n",
        "def lcm1(x,y):\n",
        "  \n",
        "  if x>y:\n",
        "    greater=x\n",
        "  else:\n",
        "    greater=y\n",
        "\n",
        "  while(True):\n",
        "    if(greater%x==0) and (greater%y==0):\n",
        "       lcm=greater\n",
        "       break\n",
        "    \n",
        "    greater=greater+1\n",
        "  return lcm\n",
        "\n",
        "num1=56\n",
        "num2=203\n",
        "print(\"lcm is:\",lcm1(num1,num2))\n"
      ],
      "execution_count": 9,
      "outputs": [
        {
          "output_type": "stream",
          "text": [
            "lcm is: 1624\n"
          ],
          "name": "stdout"
        }
      ]
    },
    {
      "cell_type": "markdown",
      "metadata": {
        "id": "MmqC1bT8jj-k"
      },
      "source": [
        "##2. Write a Python Program to Find HCF?"
      ]
    },
    {
      "cell_type": "code",
      "metadata": {
        "colab": {
          "base_uri": "https://localhost:8080/"
        },
        "id": "pYrTCvzZgWnK",
        "outputId": "4793f61a-13e6-4071-d22f-06f3b44979fe"
      },
      "source": [
        "def hcf_1(x,y):\n",
        "  if x<y:\n",
        "    smaller=x\n",
        "  else:\n",
        "    smaller=y\n",
        "\n",
        "  while(True):\n",
        "    if(x%smaller==0) and (y%smaller==0):\n",
        "      hcf=smaller\n",
        "      break\n",
        "    smaller=smaller-1\n",
        "  return hcf\n",
        "\n",
        "num1=56\n",
        "num2=203\n",
        "print(\"hcf\", hcf_1(num1,num2))"
      ],
      "execution_count": 10,
      "outputs": [
        {
          "output_type": "stream",
          "text": [
            "hcf 7\n"
          ],
          "name": "stdout"
        }
      ]
    },
    {
      "cell_type": "markdown",
      "metadata": {
        "id": "U2v8p2iSo7o4"
      },
      "source": [
        "##3. Write a Python Program to Convert Decimal to Binary, Octal and Hexadecimal?"
      ]
    },
    {
      "cell_type": "code",
      "metadata": {
        "colab": {
          "base_uri": "https://localhost:8080/"
        },
        "id": "cbMpysxLoQ03",
        "outputId": "7d941be5-59ad-47bb-bc0c-30dc3aea611e"
      },
      "source": [
        "dec_num=int(input(\"enter number\"))\n",
        "binary=bin(dec_num)\n",
        "print(\"binary of num is:\",binary)\n",
        "octal=oct(dec_num)\n",
        "print(\"octal of num is:\",octal)\n",
        "hexa=hex(dec_num)\n",
        "print(\"hexadecimal of num is:\",hexa)"
      ],
      "execution_count": 14,
      "outputs": [
        {
          "output_type": "stream",
          "text": [
            "enter number10\n",
            "binary of num is: 0b1010\n",
            "octal of num is: 0o12\n",
            "hexadecimal of num is: 0xa\n"
          ],
          "name": "stdout"
        }
      ]
    },
    {
      "cell_type": "markdown",
      "metadata": {
        "id": "4GqQMZoCy_MZ"
      },
      "source": [
        "##4. Write a Python Program To Find ASCII value of a character?\n"
      ]
    },
    {
      "cell_type": "code",
      "metadata": {
        "colab": {
          "base_uri": "https://localhost:8080/"
        },
        "id": "cdtmQrD5yNyB",
        "outputId": "ddaac9b2-bcb3-4f10-c293-de1425d19cc7"
      },
      "source": [
        "c=input()\n",
        "print(\"ASCII value is:\",ord(c))"
      ],
      "execution_count": 4,
      "outputs": [
        {
          "output_type": "stream",
          "text": [
            "A\n",
            "ASCII value is: 65\n"
          ],
          "name": "stdout"
        }
      ]
    },
    {
      "cell_type": "markdown",
      "metadata": {
        "id": "J95yOxZhzDrJ"
      },
      "source": [
        "##5. Write a Python Program to Make a Simple Calculator with 4 basic mathematical operations?"
      ]
    },
    {
      "cell_type": "code",
      "metadata": {
        "colab": {
          "base_uri": "https://localhost:8080/"
        },
        "id": "SCEP60aYzEui",
        "outputId": "6792c19d-9e47-41b9-c511-008ffb1d6c21"
      },
      "source": [
        "def add(x,y):\n",
        "  return x+y\n",
        "def sub(x,y):\n",
        "  return x-y\n",
        "def mul(x,y):\n",
        "  return x*y\n",
        "def div(x,y):\n",
        "  return x/y\n",
        "\n",
        "\n",
        "num1=56\n",
        "num2=90\n",
        "print(\"result is\",add(num1,num2))\n",
        "print(\"result is\",sub(num1,num2))\n",
        "print(\"result is\",mul(num1,num2))\n",
        "print(\"result is\",div(num1,num2))"
      ],
      "execution_count": 2,
      "outputs": [
        {
          "output_type": "stream",
          "text": [
            "result is 146\n",
            "result is -34\n",
            "result is 5040\n",
            "result is 0.6222222222222222\n"
          ],
          "name": "stdout"
        }
      ]
    },
    {
      "cell_type": "code",
      "metadata": {
        "id": "hUzpFIoIdYMe"
      },
      "source": [
        ""
      ],
      "execution_count": null,
      "outputs": []
    }
  ]
}
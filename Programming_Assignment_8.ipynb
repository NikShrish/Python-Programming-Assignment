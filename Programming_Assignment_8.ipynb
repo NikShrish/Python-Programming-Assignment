{
  "nbformat": 4,
  "nbformat_minor": 0,
  "metadata": {
    "colab": {
      "name": "Programming_Assignment_8.ipynb",
      "provenance": []
    },
    "kernelspec": {
      "name": "python3",
      "display_name": "Python 3"
    },
    "language_info": {
      "name": "python"
    }
  },
  "cells": [
    {
      "cell_type": "markdown",
      "metadata": {
        "id": "oHCUXI8pQJe6"
      },
      "source": [
        "1. Write a Python Program to Add Two Matrices?\n",
        "2. Write a Python Program to Multiply Two Matrices?\n",
        "3. Write a Python Program to Transpose a Matrix?\n",
        "4. Write a Python Program to Sort Words in Alphabetic Order?\n",
        "5. Write a Python Program to Remove Punctuation From a String?"
      ]
    },
    {
      "cell_type": "markdown",
      "metadata": {
        "id": "AGK5NIxbQ0ff"
      },
      "source": [
        "##1. Write a Python Program to Add Two Matrices?"
      ]
    },
    {
      "cell_type": "code",
      "metadata": {
        "colab": {
          "base_uri": "https://localhost:8080/"
        },
        "id": "xHGzhg8SQH5s",
        "outputId": "fc4be7e3-84e2-49ce-fc21-1dffe9be22a4"
      },
      "source": [
        "a=[[5,6,7],[3,7,4],[7,9,3]]\n",
        "b=[[3,5,3],[6,2,3],[8,4,8]]\n",
        "result=[[0,0,0],[0,0,0],[0,0,0]]\n",
        "for i in range(len(a)):\n",
        "  for j in range(len(a[0])):\n",
        "    result[i][j]=a[i][j]+b[i][j]\n",
        "\n",
        "for r in result:\n",
        "  print(r)"
      ],
      "execution_count": 3,
      "outputs": [
        {
          "output_type": "stream",
          "text": [
            "[8, 11, 10]\n",
            "[9, 9, 7]\n",
            "[15, 13, 11]\n"
          ],
          "name": "stdout"
        }
      ]
    },
    {
      "cell_type": "markdown",
      "metadata": {
        "id": "onNGmtF-fnuO"
      },
      "source": [
        "##2. Write a Python Program to Multiply Two Matrices?"
      ]
    },
    {
      "cell_type": "code",
      "metadata": {
        "colab": {
          "base_uri": "https://localhost:8080/"
        },
        "id": "W67f_evrUlSX",
        "outputId": "741a44cf-6285-4fc9-d1b7-1ccca887d22f"
      },
      "source": [
        "a=[[5,6,7],[3,7,4],[7,9,3]]\n",
        "b=[[3,5,3],[6,2,3],[8,4,8]]\n",
        "result=[[0,0,0],[0,0,0],[0,0,0]]\n",
        "for i in range(len(a)):\n",
        "  for j in range(len(a[0])):\n",
        "    result[i][j]=a[i][j]*b[i][j]\n",
        "\n",
        "for r in result:\n",
        "  print(r)"
      ],
      "execution_count": 4,
      "outputs": [
        {
          "output_type": "stream",
          "text": [
            "[15, 30, 21]\n",
            "[18, 14, 12]\n",
            "[56, 36, 24]\n"
          ],
          "name": "stdout"
        }
      ]
    },
    {
      "cell_type": "markdown",
      "metadata": {
        "id": "JRbv4Gysgqn7"
      },
      "source": [
        "##3. Write a Python Program to Transpose a Matrix?"
      ]
    },
    {
      "cell_type": "code",
      "metadata": {
        "colab": {
          "base_uri": "https://localhost:8080/"
        },
        "id": "u3NkHFrrgj-J",
        "outputId": "e51d6fe7-c34b-46ce-9808-fac013573044"
      },
      "source": [
        "a=[[2,3],[6,4],[5,9]]\n",
        "result=[[0,0,0],[0,0,0]]\n",
        "for i in range(len(a)):\n",
        "  for j in range(len(a[0])):\n",
        "    result[j][i]=a[i][j]\n",
        "\n",
        "for r in result:\n",
        "  print(r)"
      ],
      "execution_count": 9,
      "outputs": [
        {
          "output_type": "stream",
          "text": [
            "[2, 6, 5]\n",
            "[3, 4, 9]\n"
          ],
          "name": "stdout"
        }
      ]
    },
    {
      "cell_type": "markdown",
      "metadata": {
        "id": "fIznNQlmkbon"
      },
      "source": [
        "##4. Write a Python Program to Sort Words in Alphabetic Order?"
      ]
    },
    {
      "cell_type": "code",
      "metadata": {
        "colab": {
          "base_uri": "https://localhost:8080/"
        },
        "id": "TaYsQhVxivb-",
        "outputId": "c802805a-2488-4519-ad68-7a1c90e31d43"
      },
      "source": [
        "s=input()\n",
        "words=s.split()\n",
        "words.sort()\n",
        "for w in words:\n",
        "  print(w)"
      ],
      "execution_count": 11,
      "outputs": [
        {
          "output_type": "stream",
          "text": [
            "my name is nikita nagraj\n",
            "is\n",
            "my\n",
            "nagraj\n",
            "name\n",
            "nikita\n"
          ],
          "name": "stdout"
        }
      ]
    },
    {
      "cell_type": "markdown",
      "metadata": {
        "id": "_3OubUzur1t2"
      },
      "source": [
        "##5.Write a Python Program to Remove Punctuation From a String?"
      ]
    },
    {
      "cell_type": "code",
      "metadata": {
        "id": "qEIRzMIfrj8C"
      },
      "source": [
        "punctuation = '''''!()-[]{};:'\"\\,<>./?@#$%^&*_~'''\n",
        "\n"
      ],
      "execution_count": 18,
      "outputs": []
    },
    {
      "cell_type": "code",
      "metadata": {
        "colab": {
          "base_uri": "https://localhost:8080/"
        },
        "id": "yEKhQxvhsOCJ",
        "outputId": "6753a1d4-6672-4bdf-e431-f4a1b8c72791"
      },
      "source": [
        "mystr=input()\n",
        "no_punc=\"\"\n",
        "for i in mystr:\n",
        "  if i not in punctuation:\n",
        "    no_punc=no_punc+i\n",
        "print(no_punc)"
      ],
      "execution_count": 20,
      "outputs": [
        {
          "output_type": "stream",
          "text": [
            "hi! how are you?\n",
            "hi how are you\n"
          ],
          "name": "stdout"
        }
      ]
    },
    {
      "cell_type": "code",
      "metadata": {
        "id": "rtD2lEzOs9eq"
      },
      "source": [
        ""
      ],
      "execution_count": null,
      "outputs": []
    }
  ]
}
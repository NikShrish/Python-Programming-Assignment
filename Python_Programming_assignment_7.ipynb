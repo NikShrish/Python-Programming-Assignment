{
  "nbformat": 4,
  "nbformat_minor": 0,
  "metadata": {
    "colab": {
      "name": "Python Programming assignment 7.ipynb",
      "provenance": []
    },
    "kernelspec": {
      "name": "python3",
      "display_name": "Python 3"
    },
    "language_info": {
      "name": "python"
    }
  },
  "cells": [
    {
      "cell_type": "markdown",
      "metadata": {
        "id": "wvMTVFNSRQ45"
      },
      "source": [
        "##1.Write a Python Program to find sum of array?"
      ]
    },
    {
      "cell_type": "code",
      "metadata": {
        "id": "iy7YkaS9QcNW"
      },
      "source": [
        "a=[3,6,8,2,20,4,5,9,15]"
      ],
      "execution_count": 1,
      "outputs": []
    },
    {
      "cell_type": "code",
      "metadata": {
        "colab": {
          "base_uri": "https://localhost:8080/"
        },
        "id": "3ijZZvjQRYFf",
        "outputId": "590d0a51-2508-40ee-8473-37976cfc2e64"
      },
      "source": [
        "result=0\n",
        "for i in range(0,len(a)):\n",
        "  result=result+a[i]\n",
        "print(result)"
      ],
      "execution_count": 2,
      "outputs": [
        {
          "output_type": "stream",
          "text": [
            "72\n"
          ],
          "name": "stdout"
        }
      ]
    },
    {
      "cell_type": "markdown",
      "metadata": {
        "id": "tMJaO5w0SPTI"
      },
      "source": [
        "## 2.Write a Python Program to find largest element in an array?"
      ]
    },
    {
      "cell_type": "code",
      "metadata": {
        "colab": {
          "base_uri": "https://localhost:8080/"
        },
        "id": "OXQ71JVURlHj",
        "outputId": "136573f0-f061-4d6a-9c89-b1c11812442e"
      },
      "source": [
        "a"
      ],
      "execution_count": 3,
      "outputs": [
        {
          "output_type": "execute_result",
          "data": {
            "text/plain": [
              "[3, 6, 8, 2, 20, 4, 5, 9, 15]"
            ]
          },
          "metadata": {
            "tags": []
          },
          "execution_count": 3
        }
      ]
    },
    {
      "cell_type": "code",
      "metadata": {
        "colab": {
          "base_uri": "https://localhost:8080/"
        },
        "id": "uwT8z4u2SYVj",
        "outputId": "8d3c9dc8-7348-4614-c413-279a62c1f12c"
      },
      "source": [
        "large=a[0]\n",
        "for i in range(0,len(a)):\n",
        "  if a[i]>large:\n",
        "    large=a[i]\n",
        "print(large)\n"
      ],
      "execution_count": 4,
      "outputs": [
        {
          "output_type": "stream",
          "text": [
            "20\n"
          ],
          "name": "stdout"
        }
      ]
    },
    {
      "cell_type": "markdown",
      "metadata": {
        "id": "y8cUAIYuWGwV"
      },
      "source": [
        "## 3. Write a Python Program for array rotation?\n"
      ]
    },
    {
      "cell_type": "code",
      "metadata": {
        "id": "1Ic3mVM8zjdn"
      },
      "source": [
        "from collections import deque"
      ],
      "execution_count": 8,
      "outputs": []
    },
    {
      "cell_type": "code",
      "metadata": {
        "colab": {
          "base_uri": "https://localhost:8080/"
        },
        "id": "WLc4DAlqUuBG",
        "outputId": "e750628b-6729-462a-c505-e500f498d260"
      },
      "source": [
        "\n",
        "a"
      ],
      "execution_count": 9,
      "outputs": [
        {
          "output_type": "execute_result",
          "data": {
            "text/plain": [
              "[3, 6, 8, 2, 20, 4, 5, 9, 15]"
            ]
          },
          "metadata": {
            "tags": []
          },
          "execution_count": 9
        }
      ]
    },
    {
      "cell_type": "code",
      "metadata": {
        "id": "yYxMGtVFzucQ"
      },
      "source": [
        "d=deque(a)"
      ],
      "execution_count": 10,
      "outputs": []
    },
    {
      "cell_type": "code",
      "metadata": {
        "colab": {
          "base_uri": "https://localhost:8080/"
        },
        "id": "fcJKncOvzzUD",
        "outputId": "2aadd04f-7633-4863-eaee-90b24541d9ea"
      },
      "source": [
        "d.rotate(2)\n",
        "d"
      ],
      "execution_count": 13,
      "outputs": [
        {
          "output_type": "execute_result",
          "data": {
            "text/plain": [
              "deque([8, 2, 20, 4, 5, 9, 15, 3, 6])"
            ]
          },
          "metadata": {
            "tags": []
          },
          "execution_count": 13
        }
      ]
    },
    {
      "cell_type": "markdown",
      "metadata": {
        "id": "RtkMrVNK0LuX"
      },
      "source": [
        "## 4. Write a Python Program to Split the array and add the first part to the end?"
      ]
    },
    {
      "cell_type": "code",
      "metadata": {
        "id": "hPXMMJZP2zcw"
      },
      "source": [
        "def split(a,k):\n",
        "  a=a[k:]+a[:k]\n",
        "  return a"
      ],
      "execution_count": 25,
      "outputs": []
    },
    {
      "cell_type": "code",
      "metadata": {
        "colab": {
          "base_uri": "https://localhost:8080/"
        },
        "id": "szTfyrYu3GQ2",
        "outputId": "d8ea19cb-c747-437a-e6b4-84f164b40fbe"
      },
      "source": [
        "b=[4,7,6,3,5,8,9,2]\n",
        "k=2\n",
        "print(\"array is\",split(b,k))"
      ],
      "execution_count": 26,
      "outputs": [
        {
          "output_type": "stream",
          "text": [
            "array is [6, 3, 5, 8, 9, 2, 4, 7]\n"
          ],
          "name": "stdout"
        }
      ]
    },
    {
      "cell_type": "markdown",
      "metadata": {
        "id": "8s-W36xB4m2x"
      },
      "source": [
        "##5. Write a Python Program to check if given array is Monotonic?"
      ]
    },
    {
      "cell_type": "code",
      "metadata": {
        "id": "IBWOL8Do5T35"
      },
      "source": [
        "def isMonotonic(arr):\n",
        "  return (all(arr[i]<=arr[i+1] for i in range (len(arr)-1)) or all(arr[i]>=arr[i+1]for i in range(len(arr)-1)))\n",
        "\n",
        "\n",
        "  "
      ],
      "execution_count": 44,
      "outputs": []
    },
    {
      "cell_type": "code",
      "metadata": {
        "colab": {
          "base_uri": "https://localhost:8080/"
        },
        "id": "wdPS3RUz5yJ3",
        "outputId": "7bd5007a-b363-47a1-b1c5-b658f45b1988"
      },
      "source": [
        "arr=[3,5,6,7]\n",
        "print(isMonotonic(arr))"
      ],
      "execution_count": 46,
      "outputs": [
        {
          "output_type": "stream",
          "text": [
            "True\n"
          ],
          "name": "stdout"
        }
      ]
    },
    {
      "cell_type": "code",
      "metadata": {
        "colab": {
          "base_uri": "https://localhost:8080/"
        },
        "id": "Flf_skwubx4K",
        "outputId": "15160d81-a016-4bb8-8712-009878b90a5e"
      },
      "source": [
        "arr=[6,8,3,5,6,7]\n",
        "print(isMonotonic(arr))"
      ],
      "execution_count": 47,
      "outputs": [
        {
          "output_type": "stream",
          "text": [
            "False\n"
          ],
          "name": "stdout"
        }
      ]
    }
  ]
}
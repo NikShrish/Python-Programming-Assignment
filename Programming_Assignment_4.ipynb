{
  "nbformat": 4,
  "nbformat_minor": 0,
  "metadata": {
    "colab": {
      "name": "Programming Assignment 4.ipynb",
      "provenance": []
    },
    "kernelspec": {
      "name": "python3",
      "display_name": "Python 3"
    },
    "language_info": {
      "name": "python"
    }
  },
  "cells": [
    {
      "cell_type": "markdown",
      "metadata": {
        "id": "8zeQ_Ts7ei7H"
      },
      "source": [
        "#Nikita Nagraj"
      ]
    },
    {
      "cell_type": "markdown",
      "metadata": {
        "id": "LrNkHrYmerlN"
      },
      "source": [
        "##1. Write a Python Program to Find the Factorial of a Number?"
      ]
    },
    {
      "cell_type": "code",
      "metadata": {
        "colab": {
          "base_uri": "https://localhost:8080/"
        },
        "id": "RwOYrqdCeZ-3",
        "outputId": "a7001dad-8430-489d-dfe9-453f15217424"
      },
      "source": [
        "num=int(input(\"Enter Number:\"))\n",
        "fact=1\n",
        "if(num<0):\n",
        "  print(\"No factorial exist\")\n",
        "elif(num==0):\n",
        "  print(\"factorial=1\")\n",
        "else:\n",
        "  for i in range(1,num+1):\n",
        "    fact=fact*i\n",
        "  print(\"factorial of\",num,\"=\",fact)"
      ],
      "execution_count": 2,
      "outputs": [
        {
          "output_type": "stream",
          "text": [
            "Enter Number:5\n",
            "factorial of 5 = 120\n"
          ],
          "name": "stdout"
        }
      ]
    },
    {
      "cell_type": "markdown",
      "metadata": {
        "id": "cQ-wBc-YgyTe"
      },
      "source": [
        "##2. Write a Python Program to Display the multiplication Table?"
      ]
    },
    {
      "cell_type": "code",
      "metadata": {
        "colab": {
          "base_uri": "https://localhost:8080/"
        },
        "id": "-AH9JhT8gdkd",
        "outputId": "f2147061-4b38-426e-ea04-5d80c685658b"
      },
      "source": [
        "num=int(input(\"Enter Number:\"))\n",
        "\n",
        "for i in range(1,11):\n",
        "  mult=num*i\n",
        "  print(mult)\n"
      ],
      "execution_count": 6,
      "outputs": [
        {
          "output_type": "stream",
          "text": [
            "Enter Number:5\n",
            "5\n",
            "10\n",
            "15\n",
            "20\n",
            "25\n",
            "30\n",
            "35\n",
            "40\n",
            "45\n",
            "50\n"
          ],
          "name": "stdout"
        }
      ]
    },
    {
      "cell_type": "markdown",
      "metadata": {
        "id": "08KOJ5y4iDYj"
      },
      "source": [
        "##3. Write a Python Program to Print the Fibonacci sequence?"
      ]
    },
    {
      "cell_type": "code",
      "metadata": {
        "colab": {
          "base_uri": "https://localhost:8080/"
        },
        "id": "pVbR7GIGhWHK",
        "outputId": "5841051d-ba3d-4c37-db4c-d4a460fc29fd"
      },
      "source": [
        "num=int(input(\"Enter Number:\"))\n",
        "a=0\n",
        "b=1\n",
        "print(a)\n",
        "print(b)\n",
        "i=1\n",
        "while i<=num:\n",
        "  r=a+b\n",
        "  print(r)\n",
        "  \n",
        "  a=b\n",
        "  b=r\n",
        "  i+=1\n",
        "  "
      ],
      "execution_count": 15,
      "outputs": [
        {
          "output_type": "stream",
          "text": [
            "Enter Number:10\n",
            "0\n",
            "1\n",
            "1\n",
            "2\n",
            "3\n",
            "5\n",
            "8\n",
            "13\n",
            "21\n",
            "34\n",
            "55\n",
            "89\n"
          ],
          "name": "stdout"
        }
      ]
    },
    {
      "cell_type": "markdown",
      "metadata": {
        "id": "F4ph9dj6693C"
      },
      "source": [
        "##4. Write a Python Program to Check Armstrong Number?"
      ]
    },
    {
      "cell_type": "code",
      "metadata": {
        "colab": {
          "base_uri": "https://localhost:8080/"
        },
        "id": "j2ex8uZlzfoz",
        "outputId": "6a9c8149-b1e3-4cbe-908e-9dcd6ecb2e15"
      },
      "source": [
        "num=int(input(\"Enter Number:\"))\n",
        "temp=num\n",
        "sum=0\n",
        "while temp>0:\n",
        "  digit=temp%10\n",
        "  sum=sum+digit **3\n",
        "  temp=temp//10\n",
        "if (num==sum):\n",
        "  print(\"Number is Armstrong\")\n",
        "else:\n",
        "  print(\"Number is not Armstrong\")\n",
        "\n"
      ],
      "execution_count": 19,
      "outputs": [
        {
          "output_type": "stream",
          "text": [
            "Enter Number:153\n",
            "Number is Armstrong\n"
          ],
          "name": "stdout"
        }
      ]
    },
    {
      "cell_type": "markdown",
      "metadata": {
        "id": "Xu_QqPCRBQtG"
      },
      "source": [
        "## 5. Write a Python Program to Find Armstrong Number in an Interval?"
      ]
    },
    {
      "cell_type": "code",
      "metadata": {
        "colab": {
          "base_uri": "https://localhost:8080/"
        },
        "id": "0U6I7wAz8XIA",
        "outputId": "f54d9057-6011-4967-be24-94590222272d"
      },
      "source": [
        "num1=int(input(\"starting number:\"))\n",
        "num2=int(input(\"ending number:\"))\n",
        "\n",
        "for i in range(num1,num2+1):\n",
        "  sum=0\n",
        "  temp=i\n",
        "  while temp>0:\n",
        "    digit=temp%10\n",
        "    sum =sum+digit **3\n",
        "    temp //=10\n",
        "    if(sum==i):\n",
        "      print(i)"
      ],
      "execution_count": 7,
      "outputs": [
        {
          "output_type": "stream",
          "text": [
            "starting number:10\n",
            "ending number:500\n",
            "64\n",
            "125\n",
            "153\n",
            "216\n",
            "370\n",
            "371\n",
            "407\n"
          ],
          "name": "stdout"
        }
      ]
    },
    {
      "cell_type": "markdown",
      "metadata": {
        "id": "j6sL25TMjvht"
      },
      "source": [
        "##6. Write a Python Program to Find the Sum of Natural Numbers?"
      ]
    },
    {
      "cell_type": "code",
      "metadata": {
        "colab": {
          "base_uri": "https://localhost:8080/"
        },
        "id": "ztyEovaFbzBz",
        "outputId": "e00de828-4b28-42df-cf72-26deae1f043b"
      },
      "source": [
        "num=int(input(\"Enter Number:\"))\n",
        "sum=0\n",
        "for i in range(1,num+1):\n",
        "  \n",
        "  sum=sum+i\n",
        "print(sum)"
      ],
      "execution_count": 10,
      "outputs": [
        {
          "output_type": "stream",
          "text": [
            "Enter Number:100\n",
            "5050\n"
          ],
          "name": "stdout"
        }
      ]
    }
  ]
}
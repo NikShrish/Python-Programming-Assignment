{
  "nbformat": 4,
  "nbformat_minor": 0,
  "metadata": {
    "colab": {
      "name": "Programming Assignment_2.ipynb",
      "provenance": []
    },
    "kernelspec": {
      "name": "python3",
      "display_name": "Python 3"
    },
    "language_info": {
      "name": "python"
    }
  },
  "cells": [
    {
      "cell_type": "markdown",
      "metadata": {
        "id": "Q2VBb4u4r7Sl"
      },
      "source": [
        "#Nikita Nagraj"
      ]
    },
    {
      "cell_type": "markdown",
      "metadata": {
        "id": "cg4OELumr-ma"
      },
      "source": [
        "## 1. Write a Python program to convert kilometers to miles?"
      ]
    },
    {
      "cell_type": "code",
      "metadata": {
        "colab": {
          "base_uri": "https://localhost:8080/"
        },
        "id": "i2t7EjZ_r1yR",
        "outputId": "4c02fcc1-1355-462f-8f9d-79ef9e318950"
      },
      "source": [
        "# take input in km\n",
        "dist1=int(input(\"Enter input in km:\"))\n",
        "\n",
        "#1 km = 0.621371 mile\n",
        "\n",
        "result=dist1*0.621371\n",
        "\n",
        "print(dist1, \"km =\", result, \"miles\")\n"
      ],
      "execution_count": 4,
      "outputs": [
        {
          "output_type": "stream",
          "text": [
            "Enter input in km:20\n",
            "20 km = 12.42742 miles\n"
          ],
          "name": "stdout"
        }
      ]
    },
    {
      "cell_type": "markdown",
      "metadata": {
        "id": "v63TTb1wtaDI"
      },
      "source": [
        "## 2. Write a Python program to convert Celsius to Fahrenheit?"
      ]
    },
    {
      "cell_type": "code",
      "metadata": {
        "colab": {
          "base_uri": "https://localhost:8080/"
        },
        "id": "UT0aojBotBLI",
        "outputId": "798f5287-67a9-4cf7-e9b0-6f609a280b5d"
      },
      "source": [
        "#take input in celcius\n",
        "\n",
        "a=int(input(\"Enter temperature in celcius: \"))\n",
        "\n",
        "#1 fahrenheit = (celsius * 9/5) + 32\n",
        "\n",
        "print(a,\"celcius=\",(a* 9/5) + 32, \"fahrenheit\")"
      ],
      "execution_count": 9,
      "outputs": [
        {
          "output_type": "stream",
          "text": [
            "Enter temperature in celcius: 12\n",
            "12 celcius= 53.6 fahrenheit\n"
          ],
          "name": "stdout"
        }
      ]
    },
    {
      "cell_type": "markdown",
      "metadata": {
        "id": "51hGtW-BveiU"
      },
      "source": [
        "##3. Write a Python program to display calendar? "
      ]
    },
    {
      "cell_type": "code",
      "metadata": {
        "colab": {
          "base_uri": "https://localhost:8080/"
        },
        "id": "Uska7V7cuXbn",
        "outputId": "09ef0e2f-8a66-4a07-dd36-7c23d834faea"
      },
      "source": [
        "import calendar\n",
        "yy=int(input(\"Enter Year:\"))\n",
        "mm=int(input(\"Enter Month:\"))\n",
        "print(calendar.month(yy,mm))\n"
      ],
      "execution_count": 13,
      "outputs": [
        {
          "output_type": "stream",
          "text": [
            "Enter Year:2021\n",
            "Enter Month:03\n",
            "     March 2021\n",
            "Mo Tu We Th Fr Sa Su\n",
            " 1  2  3  4  5  6  7\n",
            " 8  9 10 11 12 13 14\n",
            "15 16 17 18 19 20 21\n",
            "22 23 24 25 26 27 28\n",
            "29 30 31\n",
            "\n"
          ],
          "name": "stdout"
        }
      ]
    },
    {
      "cell_type": "markdown",
      "metadata": {
        "id": "-6oyZJY6zXSA"
      },
      "source": [
        "##4. Write a Python program to solve quadratic equation?"
      ]
    },
    {
      "cell_type": "code",
      "metadata": {
        "colab": {
          "base_uri": "https://localhost:8080/"
        },
        "id": "KQRRor_Zx7mV",
        "outputId": "d458de04-2e45-4ff0-8577-a5b742b07e19"
      },
      "source": [
        "# import complex math module\n",
        "import cmath\n",
        "  \n",
        "a = int(input())\n",
        "b = int(input())\n",
        "c = int(input())\n",
        "  \n",
        "# calculate  the discriminant\n",
        "dis = (b**2) - (4 * a*c)\n",
        "  \n",
        "\n",
        "a1 = (-b-cmath.sqrt(dis))/(2 * a)\n",
        "a2 = (-b + cmath.sqrt(dis))/(2 * a)\n",
        "  \n",
        "# printing the results\n",
        "print('roots are:')\n",
        "print(a1)\n",
        "print(a2)"
      ],
      "execution_count": 15,
      "outputs": [
        {
          "output_type": "stream",
          "text": [
            "5\n",
            "6\n",
            "7\n",
            "roots are:\n",
            "(-0.6-1.0198039027185568j)\n",
            "(-0.6+1.0198039027185568j)\n"
          ],
          "name": "stdout"
        }
      ]
    },
    {
      "cell_type": "markdown",
      "metadata": {
        "id": "MCESKiC81CI0"
      },
      "source": [
        "## 5. Write a Python program to swap two variables without temp variable?"
      ]
    },
    {
      "cell_type": "code",
      "metadata": {
        "colab": {
          "base_uri": "https://localhost:8080/"
        },
        "id": "hebk-24KzSDY",
        "outputId": "f7342482-0a62-466a-f6d7-2520468aa8ed"
      },
      "source": [
        "a=int(input(\"Enter number: \"))\n",
        "b=int(input(\"Enter number: \"))\n",
        "\n",
        "print(\"before swapping\")\n",
        "print(\"a=\",a,\"and b=\",b)\n",
        "\n",
        "print(\"after swapping\")\n",
        "\n",
        "a,b=b,a\n",
        "\n",
        "print(\"a=\",a,\"b=\",b)"
      ],
      "execution_count": 17,
      "outputs": [
        {
          "output_type": "stream",
          "text": [
            "Enter number: 5\n",
            "Enter number: 6\n",
            "before swapping\n",
            "a= 5 and b= 6\n",
            "after swapping\n",
            "a= 6 b= 5\n"
          ],
          "name": "stdout"
        }
      ]
    }
  ]
}